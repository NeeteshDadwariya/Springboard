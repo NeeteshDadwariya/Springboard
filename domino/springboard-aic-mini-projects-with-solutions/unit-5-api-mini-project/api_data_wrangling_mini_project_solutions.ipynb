{
 "cells": [
  {
   "cell_type": "markdown",
   "metadata": {},
   "source": [
    "This exercise will require you to pull some data from the Quandl API. Qaundl is currently the most widely used aggregator of financial market data."
   ]
  },
  {
   "cell_type": "markdown",
   "metadata": {},
   "source": [
    "As a first step, you will need to register a free account on the http://www.quandl.com website."
   ]
  },
  {
   "cell_type": "markdown",
   "metadata": {},
   "source": [
    "After you register, you will be provided with a unique API key, that you should store:"
   ]
  },
  {
   "cell_type": "code",
   "execution_count": 12,
   "metadata": {
    "collapsed": true
   },
   "outputs": [],
   "source": [
    "# Store the API key as a string - according to PEP8, constants are always named in all upper case\n",
    "API_KEY = '...'"
   ]
  },
  {
   "cell_type": "markdown",
   "metadata": {},
   "source": [
    "Qaundl has a large number of data sources, but, unfortunately, most of them require a Premium subscription. Still, there are also a good number of free datasets."
   ]
  },
  {
   "cell_type": "markdown",
   "metadata": {},
   "source": [
    "For this mini project, we will focus on equities data from the Frankfurt Stock Exhange (FSE), which is available for free. We'll try and analyze the stock prices of a company called Carl Zeiss Meditec, which manufactures tools for eye examinations, as well as medical lasers for laser eye surgery: https://www.zeiss.com/meditec/int/home.html. The company is listed under the stock ticker AFX_X."
   ]
  },
  {
   "cell_type": "markdown",
   "metadata": {},
   "source": [
    "You can find the detailed Quandl API instructions here: https://docs.quandl.com/docs/time-series"
   ]
  },
  {
   "cell_type": "markdown",
   "metadata": {},
   "source": [
    "While there is a dedicated Python package for connecting to the Quandl API, we would prefer that you use the *requests* package, which can be easily downloaded using *pip* or *conda*. You can find the documentation for the package here: http://docs.python-requests.org/en/master/ "
   ]
  },
  {
   "cell_type": "markdown",
   "metadata": {},
   "source": [
    "Finally, apart from the *requests* package, you are encouraged to not use any third party Python packages, such as *pandas*, and instead focus on what's available in the Python Standard Library (the *collections* module might come in handy: https://pymotw.com/3/collections/).\n",
    "Also, since you won't have access to DataFrames, you are encouraged to us Python's native data structures - preferably dictionaries, though some questions can also be answered using lists.\n",
    "You can read more on these data structures here: https://docs.python.org/3/tutorial/datastructures.html"
   ]
  },
  {
   "cell_type": "markdown",
   "metadata": {},
   "source": [
    "Keep in mind that the JSON responses you will be getting from the API map almost one-to-one to Python's dictionaries. Unfortunately, they can be very nested, so make sure you read up on indexing dictionaries in the documentation provided above."
   ]
  },
  {
   "cell_type": "code",
   "execution_count": 13,
   "metadata": {
    "collapsed": true
   },
   "outputs": [],
   "source": [
    "# First, import the relevant modules\n",
    "import requests"
   ]
  },
  {
   "cell_type": "code",
   "execution_count": 14,
   "metadata": {
    "collapsed": true
   },
   "outputs": [],
   "source": [
    "# Now, call the Quandl API and pull out a small sample of the data (only one day) to get a glimpse\n",
    "# into the JSON structure that will be returned\n",
    "sample = requests.get('https://www.quandl.com/api/v3/datasets/FSE/AFX_X?start_date=2017-01-03&end_date=2017-01-02&' + API_KEY)"
   ]
  },
  {
   "cell_type": "code",
   "execution_count": 15,
   "metadata": {},
   "outputs": [
    {
     "data": {
      "text/plain": [
       "{u'errors': {u'start_date': [u'start_date should not exceed end_date']},\n",
       " u'quandl_error': {u'code': u'QESx04',\n",
       "  u'message': u'You have submitted incorrect query parameters. Please check your API call syntax and try again.'}}"
      ]
     },
     "execution_count": 15,
     "metadata": {},
     "output_type": "execute_result"
    }
   ],
   "source": [
    "# Inspect the JSON structure of the object you created, and take note of how nested it is,\n",
    "# as well as the overall structure\n",
    "sample.json()"
   ]
  },
  {
   "cell_type": "markdown",
   "metadata": {},
   "source": [
    "These are your tasks for this mini project:\n",
    "\n",
    "1. Collect data from the Franfurt Stock Exchange, for the ticker AFX_X, for the whole year 2017 (keep in mind that the date format is YYYY-MM-DD).\n",
    "2. Convert the returned JSON object into a Python dictionary.\n",
    "3. Calculate what the highest and lowest opening prices were for the stock in this period.\n",
    "4. What was the largest change in any one day (based on High and Low price)?\n",
    "5. What was the largest change between any two days (based on Closing Price)?\n",
    "6. What was the average daily trading volume during this year?\n",
    "7. (Optional) What was the median trading volume during this year. (Note: you may need to implement your own function for calculating the median.)"
   ]
  },
  {
   "cell_type": "code",
   "execution_count": 16,
   "metadata": {
    "collapsed": true
   },
   "outputs": [],
   "source": [
    "# Task 1\n",
    "data = requests.get('https://www.quandl.com/api/v3/datasets/FSE/AFX_X?start_date=2017-01-01&end_date=2017-12-31&api_key=_jXRx-TTsCsrsNCHU5SN')"
   ]
  },
  {
   "cell_type": "code",
   "execution_count": 17,
   "metadata": {
    "collapsed": true
   },
   "outputs": [],
   "source": [
    "# Task 2\n",
    "afx_x = data.json()"
   ]
  },
  {
   "cell_type": "code",
   "execution_count": 18,
   "metadata": {
    "collapsed": true
   },
   "outputs": [],
   "source": [
    "# Task 3\n",
    "\n",
    "# First, we need to know the indexes of the 'Open' price in the stock entry for any given day\n",
    "idx_open = afx_x['dataset']['column_names'].index('Open')\n",
    "\n",
    "# We need to populate a new list of opening prices\n",
    "# The data for each day resides in the 'data' key, which is a list of lists\n",
    "# Each nested list contains all the different values for a single day\n",
    "opening_prices = []\n",
    "for lst in afx_x['dataset']['data']:\n",
    "    opening_prices.append(lst[idx_open])\n",
    "\n",
    "# We could also do this via a list comprehension\n",
    "opening_prices = [lst[idx_open] for lst in afx_x['dataset']['data']]\n",
    "\n",
    "# Values returned from the API can sometimes be 'None', so we need to remove those\n",
    "opening_prices = [price for price in opening_prices if price is not None]\n",
    "\n",
    "# Finally, getting the highest and lowest price is trivial\n",
    "highest_opening_price = max(opening_prices)\n",
    "lowest_opening_price = min(opening_prices)"
   ]
  },
  {
   "cell_type": "code",
   "execution_count": 19,
   "metadata": {
    "collapsed": true
   },
   "outputs": [],
   "source": [
    "# Task 4\n",
    "\n",
    "# We need the indexes for the high and low prices\n",
    "idx_high = afx_x['dataset']['column_names'].index('High')\n",
    "idx_low = afx_x['dataset']['column_names'].index('Low')\n",
    "\n",
    "# Initialize a placeholder result variable\n",
    "largest_change = 0\n",
    "\n",
    "# Calculate the largest change\n",
    "for lst in afx_x['dataset']['data']:\n",
    "    if lst[idx_high] - lst[idx_low] > largest_change:\n",
    "        largest_change = lst[idx_high] - lst[idx_low]"
   ]
  },
  {
   "cell_type": "code",
   "execution_count": 20,
   "metadata": {
    "collapsed": true
   },
   "outputs": [],
   "source": [
    "# Task 5\n",
    "\n",
    "# Find the index for the Closing Price\n",
    "idx_close = afx_x['dataset']['column_names'].index('Close')\n",
    "\n",
    "# Populate a list of Closing Price differences\n",
    "closing_diffs = []\n",
    "for i in range(1, len(afx_x['dataset']['data'])):\n",
    "    diff = afx_x['dataset']['data'][i][idx_close] - afx_x['dataset']['data'][i-1][idx_close]\n",
    "    closing_diffs.append(abs(diff))\n",
    "    \n",
    "# Calculate the maximum difference\n",
    "max_closing_diff = max(closing_diffs)"
   ]
  },
  {
   "cell_type": "code",
   "execution_count": 21,
   "metadata": {},
   "outputs": [
    {
     "data": {
      "text/plain": [
       "89124.33725490196"
      ]
     },
     "execution_count": 21,
     "metadata": {},
     "output_type": "execute_result"
    }
   ],
   "source": [
    "# Task 6\n",
    "\n",
    "# Find the index of the Traded Volume\n",
    "idx_volume = afx_x['dataset']['column_names'].index('Traded Volume')\n",
    "\n",
    "# Populate a list of the Traded Volumes\n",
    "traded_volumes = [lst[idx_volume] for lst in afx_x['dataset']['data']]\n",
    "\n",
    "# Find the average daily volume\n",
    "sum(traded_volumes)/len(traded_volumes)"
   ]
  },
  {
   "cell_type": "code",
   "execution_count": 22,
   "metadata": {
    "collapsed": true
   },
   "outputs": [],
   "source": [
    "# Task 7 (Optional)\n",
    "\n",
    "# Answers will vary"
   ]
  }
 ],
 "metadata": {
  "kernelspec": {
   "display_name": "Python 2",
   "language": "python",
   "name": "python2"
  },
  "language_info": {
   "codemirror_mode": {
    "name": "ipython",
    "version": 2
   },
   "file_extension": ".py",
   "mimetype": "text/x-python",
   "name": "python",
   "nbconvert_exporter": "python",
   "pygments_lexer": "ipython2",
   "version": "2.7.13"
  }
 },
 "nbformat": 4,
 "nbformat_minor": 2
}
